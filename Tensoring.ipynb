{
 "cells": [
  {
   "cell_type": "markdown",
   "metadata": {},
   "source": [
    "Le but de ce fichier est de mettre en forme les données avant de les utiliser pour le réseau de neurones."
   ]
  },
  {
   "cell_type": "code",
   "execution_count": 1,
   "metadata": {},
   "outputs": [],
   "source": [
    "import csv\n",
    "import numpy as np\n",
    "import matplotlib.pyplot as plt\n",
    "import pandas as pd \n",
    "import os\n",
    "import re\n",
    "import math\n",
    "\n",
    "import torch\n",
    "import torch.nn as nn\n",
    "import torch.nn.functional as F\n",
    "import torchvision\n",
    "from torchvision import models, transforms, datasets"
   ]
  },
  {
   "cell_type": "markdown",
   "metadata": {},
   "source": [
    "# Data loading and cleaning"
   ]
  },
  {
   "cell_type": "code",
   "execution_count": 2,
   "metadata": {
    "scrolled": true
   },
   "outputs": [],
   "source": [
    "df_train=pd.read_csv('data_truncate_train_label.csv')\n",
    "df_train=df_train.drop(df_train.columns[0],axis=1)\n",
    "\n",
    "df_test=pd.read_csv('data_truncate_test_label.csv')\n",
    "df_test=df_test.drop(df_test.columns[0],axis=1)"
   ]
  },
  {
   "cell_type": "code",
   "execution_count": 3,
   "metadata": {},
   "outputs": [],
   "source": [
    "df_train.dropna(axis=0, inplace=True)\n",
    "df_test.dropna(axis=0, inplace=True)"
   ]
  },
  {
   "cell_type": "markdown",
   "metadata": {},
   "source": [
    "# New features\n",
    "## origin_call, origin_stand and taxi_id"
   ]
  },
  {
   "cell_type": "code",
   "execution_count": 4,
   "metadata": {},
   "outputs": [],
   "source": [
    "call_id = list(set(df_train['ORIGIN_CALL'].values))\n",
    "stand_id = list(set(df_train['ORIGIN_STAND'].values))\n",
    "taxi_id = list(set(df_train['TAXI_ID'].values))"
   ]
  },
  {
   "cell_type": "code",
   "execution_count": 5,
   "metadata": {},
   "outputs": [],
   "source": [
    "convert_for_embed_call = dict(zip(call_id, range(len(call_id))))\n",
    "convert_for_embed_stand = dict(zip(stand_id, range(len(stand_id))))\n",
    "convert_for_embed_taxi = dict(zip(taxi_id, range(len(taxi_id))))"
   ]
  },
  {
   "cell_type": "code",
   "execution_count": 6,
   "metadata": {},
   "outputs": [],
   "source": [
    "df_train['ORIGIN_CALL'] = df_train['ORIGIN_CALL'].map(convert_for_embed_call)\n",
    "df_train['ORIGIN_STAND'] = df_train['ORIGIN_STAND'].map(convert_for_embed_stand)\n",
    "df_train['TAXI_ID'] = df_train['TAXI_ID'].map(convert_for_embed_taxi)\n",
    "\n",
    "df_test['ORIGIN_CALL'] = df_test['ORIGIN_CALL'].map(convert_for_embed_call)\n",
    "df_test['ORIGIN_STAND'] = df_test['ORIGIN_STAND'].map(convert_for_embed_stand)\n",
    "df_test['TAXI_ID'] = df_test['TAXI_ID'].map(convert_for_embed_taxi)"
   ]
  },
  {
   "cell_type": "markdown",
   "metadata": {},
   "source": [
    "## Five first and last points of taxi's trajectory"
   ]
  },
  {
   "cell_type": "code",
   "execution_count": 7,
   "metadata": {},
   "outputs": [],
   "source": [
    "#créé une fonction qui renvoie le point position en partant de la gauche (attention on inverse long/lat une fois sur deux)\n",
    "def start_points(poly, num):\n",
    "    poly = poly.replace(\"[\",\"\").replace(\"]\",\"\").split(\",\")\n",
    "    n = len(poly)\n",
    "    if (n == 1):\n",
    "        return None\n",
    "    elif (num < n):\n",
    "        return float(poly[num])\n",
    "    else:\n",
    "        if (num%2 == 0):\n",
    "            return float(poly[n-2])\n",
    "        else:\n",
    "            return float(poly[n-1])\n",
    "        \n",
    "def end_points(poly, num):\n",
    "    poly = poly.replace(\"[\",\"\").replace(\"]\",\"\").split(\",\")\n",
    "    n = len(poly)\n",
    "    if (n == 1):\n",
    "        return None\n",
    "    elif (num < n):\n",
    "        return float(poly[n-num-1])\n",
    "    else:\n",
    "        if (num%2 == 0):\n",
    "            return float(poly[1])\n",
    "        else:\n",
    "            return float(poly[0])"
   ]
  },
  {
   "cell_type": "code",
   "execution_count": 8,
   "metadata": {},
   "outputs": [],
   "source": [
    "df_train['START_1_LON'] = df_train['POLYLINE_TRUNCATE'].apply(lambda x: start_points(x,0))\n",
    "df_train['START_1_LAT'] = df_train['POLYLINE_TRUNCATE'].apply(lambda x: start_points(x,1))\n",
    "df_train['START_2_LON'] = df_train['POLYLINE_TRUNCATE'].apply(lambda x: start_points(x,2))\n",
    "df_train['START_2_LAT'] = df_train['POLYLINE_TRUNCATE'].apply(lambda x: start_points(x,3))\n",
    "df_train['START_3_LON'] = df_train['POLYLINE_TRUNCATE'].apply(lambda x: start_points(x,4))\n",
    "df_train['START_3_LAT'] = df_train['POLYLINE_TRUNCATE'].apply(lambda x: start_points(x,5))\n",
    "df_train['START_4_LON'] = df_train['POLYLINE_TRUNCATE'].apply(lambda x: start_points(x,6))\n",
    "df_train['START_4_LAT'] = df_train['POLYLINE_TRUNCATE'].apply(lambda x: start_points(x,7))\n",
    "df_train['START_5_LON'] = df_train['POLYLINE_TRUNCATE'].apply(lambda x: start_points(x,8))\n",
    "df_train['START_5_LAT'] = df_train['POLYLINE_TRUNCATE'].apply(lambda x: start_points(x,9))\n",
    "\n",
    "df_test['START_1_LON'] = df_test['POLYLINE_TRUNCATE'].apply(lambda x: start_points(x,0))\n",
    "df_test['START_1_LAT'] = df_test['POLYLINE_TRUNCATE'].apply(lambda x: start_points(x,1))\n",
    "df_test['START_2_LON'] = df_test['POLYLINE_TRUNCATE'].apply(lambda x: start_points(x,2))\n",
    "df_test['START_2_LAT'] = df_test['POLYLINE_TRUNCATE'].apply(lambda x: start_points(x,3))\n",
    "df_test['START_3_LON'] = df_test['POLYLINE_TRUNCATE'].apply(lambda x: start_points(x,4))\n",
    "df_test['START_3_LAT'] = df_test['POLYLINE_TRUNCATE'].apply(lambda x: start_points(x,5))\n",
    "df_test['START_4_LON'] = df_test['POLYLINE_TRUNCATE'].apply(lambda x: start_points(x,6))\n",
    "df_test['START_4_LAT'] = df_test['POLYLINE_TRUNCATE'].apply(lambda x: start_points(x,7))\n",
    "df_test['START_5_LON'] = df_test['POLYLINE_TRUNCATE'].apply(lambda x: start_points(x,8))\n",
    "df_test['START_5_LAT'] = df_test['POLYLINE_TRUNCATE'].apply(lambda x: start_points(x,9))"
   ]
  },
  {
   "cell_type": "code",
   "execution_count": 9,
   "metadata": {},
   "outputs": [],
   "source": [
    "df_train['END_1_LON'] = df_train['POLYLINE_TRUNCATE'].apply(lambda x: end_points(x,9))\n",
    "df_train['END_1_LAT'] = df_train['POLYLINE_TRUNCATE'].apply(lambda x: end_points(x,8))\n",
    "df_train['END_2_LON'] = df_train['POLYLINE_TRUNCATE'].apply(lambda x: end_points(x,7))\n",
    "df_train['END_2_LAT'] = df_train['POLYLINE_TRUNCATE'].apply(lambda x: end_points(x,6))\n",
    "df_train['END_3_LON'] = df_train['POLYLINE_TRUNCATE'].apply(lambda x: end_points(x,5))\n",
    "df_train['END_3_LAT'] = df_train['POLYLINE_TRUNCATE'].apply(lambda x: end_points(x,4))\n",
    "df_train['END_4_LON'] = df_train['POLYLINE_TRUNCATE'].apply(lambda x: end_points(x,3))\n",
    "df_train['END_4_LAT'] = df_train['POLYLINE_TRUNCATE'].apply(lambda x: end_points(x,2))\n",
    "df_train['END_5_LON'] = df_train['POLYLINE_TRUNCATE'].apply(lambda x: end_points(x,1))\n",
    "df_train['END_5_LAT'] = df_train['POLYLINE_TRUNCATE'].apply(lambda x: end_points(x,0))\n",
    "\n",
    "df_test['END_1_LON'] = df_test['POLYLINE_TRUNCATE'].apply(lambda x: end_points(x,9))\n",
    "df_test['END_1_LAT'] = df_test['POLYLINE_TRUNCATE'].apply(lambda x: end_points(x,8))\n",
    "df_test['END_2_LON'] = df_test['POLYLINE_TRUNCATE'].apply(lambda x: end_points(x,7))\n",
    "df_test['END_2_LAT'] = df_test['POLYLINE_TRUNCATE'].apply(lambda x: end_points(x,6))\n",
    "df_test['END_3_LON'] = df_test['POLYLINE_TRUNCATE'].apply(lambda x: end_points(x,5))\n",
    "df_test['END_3_LAT'] = df_test['POLYLINE_TRUNCATE'].apply(lambda x: end_points(x,4))\n",
    "df_test['END_4_LON'] = df_test['POLYLINE_TRUNCATE'].apply(lambda x: end_points(x,3))\n",
    "df_test['END_4_LAT'] = df_test['POLYLINE_TRUNCATE'].apply(lambda x: end_points(x,2))\n",
    "df_test['END_5_LON'] = df_test['POLYLINE_TRUNCATE'].apply(lambda x: end_points(x,1))\n",
    "df_test['END_5_LAT'] = df_test['POLYLINE_TRUNCATE'].apply(lambda x: end_points(x,0))"
   ]
  },
  {
   "cell_type": "markdown",
   "metadata": {},
   "source": [
    "# Data labels"
   ]
  },
  {
   "cell_type": "code",
   "execution_count": 10,
   "metadata": {},
   "outputs": [],
   "source": [
    "df_train['LABEL_LON'] = df_train['LABEL'].apply(lambda x: end_points(x,1))\n",
    "df_train['LABEL_LAT'] = df_train['LABEL'].apply(lambda x: end_points(x,0))\n",
    "\n",
    "df_test['LABEL_LON'] = df_test['LABEL'].apply(lambda x: end_points(x,1))\n",
    "df_test['LABEL_LAT'] = df_test['LABEL'].apply(lambda x: end_points(x,0))"
   ]
  },
  {
   "cell_type": "markdown",
   "metadata": {},
   "source": [
    "# Data cleaning and saving"
   ]
  },
  {
   "cell_type": "code",
   "execution_count": 11,
   "metadata": {},
   "outputs": [],
   "source": [
    "df_train = df_train.drop(['POLYLINE_TRUNCATE','LABEL'],axis=1)\n",
    "df_test = df_test.drop(['POLYLINE_TRUNCATE','LABEL'],axis=1)\n",
    "\n",
    "df_train = df_train.dropna(axis=0)\n",
    "df_test = df_test.dropna(axis=0)"
   ]
  },
  {
   "cell_type": "code",
   "execution_count": 12,
   "metadata": {},
   "outputs": [],
   "source": [
    "df_train.to_csv('train_avant_tenseur.csv')\n",
    "df_test.to_csv('test_avant_tenseur.csv')"
   ]
  },
  {
   "cell_type": "code",
   "execution_count": 51,
   "metadata": {},
   "outputs": [],
   "source": [
    "df_try = df_train.loc[:10000,]\n",
    "df_try.to_csv('try_avant_tenseur.csv')"
   ]
  }
 ],
 "metadata": {
  "kernelspec": {
   "display_name": "Python 3",
   "language": "python",
   "name": "python3"
  },
  "language_info": {
   "codemirror_mode": {
    "name": "ipython",
    "version": 3
   },
   "file_extension": ".py",
   "mimetype": "text/x-python",
   "name": "python",
   "nbconvert_exporter": "python",
   "pygments_lexer": "ipython3",
   "version": "3.7.0"
  }
 },
 "nbformat": 4,
 "nbformat_minor": 4
}
